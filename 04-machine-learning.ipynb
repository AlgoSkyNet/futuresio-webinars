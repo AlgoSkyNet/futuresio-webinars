{
 "cells": [
  {
   "cell_type": "markdown",
   "metadata": {},
   "source": [
    "# Machine Learning for Trading (with Python)\n",
    "\n",
    "Notebook for the \"**Machine Learning for Trading with Python**\" webinar done for futures.io.\n",
    "\n",
    "&copy; Ran Aroussi | [@aroussi](http://twitter.com/aroussi) | [aroussi.com](http://aroussi.com) | [github.com/ranaroussi](https://github.com/ranaroussi)"
   ]
  },
  {
   "cell_type": "code",
   "execution_count": 2,
   "metadata": {
    "slideshow": {
     "slide_type": "skip"
    }
   },
   "outputs": [],
   "source": [
    "%config InlineBackend.figure_format = 'retina'\n",
    "%matplotlib inline\n",
    "\n",
    "# import modules\n",
    "import numpy as np\n",
    "import pandas as pd\n",
    "import matplotlib.pyplot as plt\n",
    "import seaborn as sns\n",
    "\n",
    "pd.set_option('notebook_repr_html', True)\n",
    "pd.set_option('expand_frame_repr', False)\n",
    "\n",
    "sns.set(font_scale=1.2, rc={\n",
    "    'figure.figsize': (10, 7),\n",
    "    'axes.facecolor':'white',\n",
    "    'figure.facecolor':'white',\n",
    "    'grid.color':'#dddddd',\n",
    "    'grid.linewidth': 0.25,\n",
    "    \"lines.linewidth\": 1.5,\n",
    "    'text.color': 'gray',\n",
    "    'xtick.color': 'gray',\n",
    "    'ytick.color': 'gray'\n",
    "})\n",
    "# flat ui colors\n",
    "flatui = [\"#af4b64\", \"#3399cc\", \"#4fa487\", \"#9b59b6\", \"#95a5a6\", \n",
    "          \"#ee8659\", \"#4f6c86\", \"#254a82\", \"#c5a06e\", \"#cbb1b8\"]\n",
    "sns.set_palette(flatui)"
   ]
  },
  {
   "cell_type": "markdown",
   "metadata": {
    "slideshow": {
     "slide_type": "subslide"
    }
   },
   "source": [
    "# Machine Learning Algorithms\n",
    "\n",
    "- **Unupervised Learning:** based on input\n",
    "- **Supervised Learning:** based on input + output\n",
    "- **Reinforced Learning:** based on feedback\n",
    "- **Deep Learning:** based on nothing :)\n",
    "\n",
    "---"
   ]
  },
  {
   "cell_type": "markdown",
   "metadata": {
    "slideshow": {
     "slide_type": "subslide"
    }
   },
   "source": [
    "# The Machine Learning Workflow\n",
    "\n",
    "1. Data Gathering + Cleaning\n",
    "- Feature Engineering + Normalization\n",
    "- Model Selection\n",
    "- Split Data\n",
    "- Train Data\n",
    "- Test Data\n",
    "\n",
    "---"
   ]
  },
  {
   "cell_type": "markdown",
   "metadata": {
    "slideshow": {
     "slide_type": "subslide"
    }
   },
   "source": [
    "# Feature Engineering ≈ Alpha Factors\n",
    "\n",
    "<big><br>Features are attributes that holds some predictive power over the end result</big>\n",
    "\n",
    "**Examples:**\n",
    "\n",
    "- Previous _N_ days returns\n",
    "- Inter-market relationships\n",
    "- Technical indicators\n",
    "\n",
    "---"
   ]
  },
  {
   "cell_type": "markdown",
   "metadata": {
    "slideshow": {
     "slide_type": "subslide"
    }
   },
   "source": [
    "## Model Selection\n",
    "\n",
    "<a href=\"http://scikit-learn.org/stable/tutorial/machine_learning_map/index.html\">\n",
    "<img style=\"max-height:400px!important;padding:0 20px;margin:20px auto 0;\" src=\"http://aroussi.com/assets/img/ml-map.jpg\"></a>\n",
    "\n",
    "Source: [scikit-learn.org](http://scikit-learn.org/stable/tutorial/machine_learning_map/index.html)\n",
    "\n",
    "---"
   ]
  },
  {
   "cell_type": "markdown",
   "metadata": {
    "slideshow": {
     "slide_type": "subslide"
    }
   },
   "source": [
    "# Machine Learning for Trading\n",
    "\n",
    "<img src=\"http://aroussi.com/assets/img/ml-sl.png\" style=\"max-width:80%!important;\">"
   ]
  },
  {
   "cell_type": "markdown",
   "metadata": {
    "slideshow": {
     "slide_type": "slide"
    }
   },
   "source": [
    "# ML Algorithms for \"Beginners\"\n",
    "\n",
    "<big><br>The two ML algorithems that are easiest to get started with are <strong>Decision Trees</strong> and <strong>K Nearest-Neighbours</strong>. They are both easy to comprehend and works for either Regression or Classification.</big>"
   ]
  },
  {
   "cell_type": "markdown",
   "metadata": {
    "slideshow": {
     "slide_type": "subslide"
    }
   },
   "source": [
    "## KNN (K Nearest-Neighbours)\n",
    "\n",
    "- Training is fast\n",
    "- Query is slow\n",
    "- Requires data normalization\n",
    "- Needs features\n",
    "\n",
    "<img src=\"http://houseofbots.com/images/news/2542/cover.png\" style=\"max-width:80%!important;\">"
   ]
  },
  {
   "cell_type": "markdown",
   "metadata": {
    "slideshow": {
     "slide_type": "subslide"
    }
   },
   "source": [
    "## Decision Trees\n",
    "\n",
    "- Training is slow\n",
    "- Query is fast\n",
    "- No need for data normalization\n",
    "- Auto-discover features\n",
    "\n",
    "<img src=\"http://aroussi.com/assets/img/ml-dt.png\" style=\"max-width:90%!important;\">\n"
   ]
  },
  {
   "cell_type": "markdown",
   "metadata": {
    "slideshow": {
     "slide_type": "skip"
    }
   },
   "source": [
    "---"
   ]
  },
  {
   "cell_type": "markdown",
   "metadata": {
    "collapsed": true,
    "slideshow": {
     "slide_type": "slide"
    }
   },
   "source": [
    "# Example: Predicting Tomorrow's Direction using a Decision Tree Algorithm"
   ]
  },
  {
   "cell_type": "code",
   "execution_count": 3,
   "metadata": {
    "slideshow": {
     "slide_type": "subslide"
    }
   },
   "outputs": [],
   "source": [
    "from sklearn.tree import DecisionTreeClassifier\n",
    "from sklearn import preprocessing\n",
    "from sklearn.model_selection import cross_val_score\n",
    "from sklearn.metrics import accuracy_score\n",
    "\n",
    "import fix_yahoo_finance as yf"
   ]
  },
  {
   "cell_type": "markdown",
   "metadata": {
    "slideshow": {
     "slide_type": "subslide"
    }
   },
   "source": [
    "## Get Data"
   ]
  },
  {
   "cell_type": "code",
   "execution_count": 4,
   "metadata": {},
   "outputs": [
    {
     "data": {
      "text/html": [
       "<div>\n",
       "<style scoped>\n",
       "    .dataframe tbody tr th:only-of-type {\n",
       "        vertical-align: middle;\n",
       "    }\n",
       "\n",
       "    .dataframe tbody tr th {\n",
       "        vertical-align: top;\n",
       "    }\n",
       "\n",
       "    .dataframe thead th {\n",
       "        text-align: right;\n",
       "    }\n",
       "</style>\n",
       "<table border=\"1\" class=\"dataframe\">\n",
       "  <thead>\n",
       "    <tr style=\"text-align: right;\">\n",
       "      <th></th>\n",
       "      <th>SPX</th>\n",
       "      <th>VIX</th>\n",
       "      <th>VXV</th>\n",
       "    </tr>\n",
       "    <tr>\n",
       "      <th>Date</th>\n",
       "      <th></th>\n",
       "      <th></th>\n",
       "      <th></th>\n",
       "    </tr>\n",
       "  </thead>\n",
       "  <tbody>\n",
       "    <tr>\n",
       "      <th>2018-09-14</th>\n",
       "      <td>2904.979980</td>\n",
       "      <td>12.07</td>\n",
       "      <td>14.37</td>\n",
       "    </tr>\n",
       "    <tr>\n",
       "      <th>2018-09-17</th>\n",
       "      <td>2888.800049</td>\n",
       "      <td>13.68</td>\n",
       "      <td>15.28</td>\n",
       "    </tr>\n",
       "    <tr>\n",
       "      <th>2018-09-18</th>\n",
       "      <td>2904.310059</td>\n",
       "      <td>12.79</td>\n",
       "      <td>15.04</td>\n",
       "    </tr>\n",
       "    <tr>\n",
       "      <th>2018-09-19</th>\n",
       "      <td>2907.949951</td>\n",
       "      <td>11.75</td>\n",
       "      <td>14.65</td>\n",
       "    </tr>\n",
       "    <tr>\n",
       "      <th>2018-09-20</th>\n",
       "      <td>2932.149902</td>\n",
       "      <td>11.52</td>\n",
       "      <td>NaN</td>\n",
       "    </tr>\n",
       "  </tbody>\n",
       "</table>\n",
       "</div>"
      ],
      "text/plain": [
       "                    SPX    VIX    VXV\n",
       "Date                                 \n",
       "2018-09-14  2904.979980  12.07  14.37\n",
       "2018-09-17  2888.800049  13.68  15.28\n",
       "2018-09-18  2904.310059  12.79  15.04\n",
       "2018-09-19  2907.949951  11.75  14.65\n",
       "2018-09-20  2932.149902  11.52    NaN"
      ]
     },
     "execution_count": 4,
     "metadata": {},
     "output_type": "execute_result"
    }
   ],
   "source": [
    "symbols = [\"^GSPC\", \"^VIX\", \"^VXV\"]\n",
    "raw = pd.read_pickle('ml-raw-data.pkl')\n",
    "# raw = yf.download(symbols, start='1990-01-01', auto_adjust=True, group_by=\"symbol\")\n",
    "\n",
    "df = pd.DataFrame()\n",
    "for symbol in symbols:\n",
    "    new_symbol = symbol.replace(\"^\", \"\").replace(\"GSPC\", \"SPX\")\n",
    "    df[new_symbol] = raw[symbol]['Close']\n",
    "\n",
    "df.tail()"
   ]
  },
  {
   "cell_type": "markdown",
   "metadata": {
    "slideshow": {
     "slide_type": "subslide"
    }
   },
   "source": [
    "## Prepare Features (input)"
   ]
  },
  {
   "cell_type": "code",
   "execution_count": 5,
   "metadata": {},
   "outputs": [
    {
     "data": {
      "text/html": [
       "<div>\n",
       "<style scoped>\n",
       "    .dataframe tbody tr th:only-of-type {\n",
       "        vertical-align: middle;\n",
       "    }\n",
       "\n",
       "    .dataframe tbody tr th {\n",
       "        vertical-align: top;\n",
       "    }\n",
       "\n",
       "    .dataframe thead th {\n",
       "        text-align: right;\n",
       "    }\n",
       "</style>\n",
       "<table border=\"1\" class=\"dataframe\">\n",
       "  <thead>\n",
       "    <tr style=\"text-align: right;\">\n",
       "      <th></th>\n",
       "      <th>SPX</th>\n",
       "      <th>VIX</th>\n",
       "      <th>VXV</th>\n",
       "      <th>SPXVOL</th>\n",
       "      <th>SPX1D</th>\n",
       "      <th>VIX1D</th>\n",
       "      <th>VXV1D</th>\n",
       "      <th>SPXHL</th>\n",
       "      <th>SPXOC</th>\n",
       "      <th>SPXO2C</th>\n",
       "    </tr>\n",
       "    <tr>\n",
       "      <th>Date</th>\n",
       "      <th></th>\n",
       "      <th></th>\n",
       "      <th></th>\n",
       "      <th></th>\n",
       "      <th></th>\n",
       "      <th></th>\n",
       "      <th></th>\n",
       "      <th></th>\n",
       "      <th></th>\n",
       "      <th></th>\n",
       "    </tr>\n",
       "  </thead>\n",
       "  <tbody>\n",
       "    <tr>\n",
       "      <th>2018-09-13</th>\n",
       "      <td>2904.179932</td>\n",
       "      <td>12.37</td>\n",
       "      <td>14.77</td>\n",
       "      <td>-0.306285</td>\n",
       "      <td>0.528225</td>\n",
       "      <td>-5.859970</td>\n",
       "      <td>-3.590078</td>\n",
       "      <td>0.460205</td>\n",
       "      <td>-7.329834</td>\n",
       "      <td>0.253028</td>\n",
       "    </tr>\n",
       "    <tr>\n",
       "      <th>2018-09-14</th>\n",
       "      <td>2904.979980</td>\n",
       "      <td>12.07</td>\n",
       "      <td>14.37</td>\n",
       "      <td>-3.229870</td>\n",
       "      <td>0.027548</td>\n",
       "      <td>-2.425222</td>\n",
       "      <td>-2.708192</td>\n",
       "      <td>10.609863</td>\n",
       "      <td>1.399903</td>\n",
       "      <td>-0.048167</td>\n",
       "    </tr>\n",
       "    <tr>\n",
       "      <th>2018-09-17</th>\n",
       "      <td>2888.800049</td>\n",
       "      <td>13.68</td>\n",
       "      <td>15.28</td>\n",
       "      <td>-6.414376</td>\n",
       "      <td>-0.556972</td>\n",
       "      <td>13.338857</td>\n",
       "      <td>6.332637</td>\n",
       "      <td>17.670166</td>\n",
       "      <td>15.030029</td>\n",
       "      <td>-0.517593</td>\n",
       "    </tr>\n",
       "    <tr>\n",
       "      <th>2018-09-18</th>\n",
       "      <td>2904.310059</td>\n",
       "      <td>12.79</td>\n",
       "      <td>15.04</td>\n",
       "      <td>4.303268</td>\n",
       "      <td>0.536901</td>\n",
       "      <td>-6.505848</td>\n",
       "      <td>-1.570681</td>\n",
       "      <td>0.310058</td>\n",
       "      <td>-13.570069</td>\n",
       "      <td>0.469432</td>\n",
       "    </tr>\n",
       "    <tr>\n",
       "      <th>2018-09-19</th>\n",
       "      <td>2907.949951</td>\n",
       "      <td>11.75</td>\n",
       "      <td>14.65</td>\n",
       "      <td>6.680847</td>\n",
       "      <td>0.125327</td>\n",
       "      <td>-8.131353</td>\n",
       "      <td>-2.593085</td>\n",
       "      <td>2.780030</td>\n",
       "      <td>-1.349853</td>\n",
       "      <td>0.046441</td>\n",
       "    </tr>\n",
       "  </tbody>\n",
       "</table>\n",
       "</div>"
      ],
      "text/plain": [
       "                    SPX    VIX    VXV    SPXVOL     SPX1D      VIX1D     VXV1D      SPXHL      SPXOC    SPXO2C\n",
       "Date                                                                                                          \n",
       "2018-09-13  2904.179932  12.37  14.77 -0.306285  0.528225  -5.859970 -3.590078   0.460205  -7.329834  0.253028\n",
       "2018-09-14  2904.979980  12.07  14.37 -3.229870  0.027548  -2.425222 -2.708192  10.609863   1.399903 -0.048167\n",
       "2018-09-17  2888.800049  13.68  15.28 -6.414376 -0.556972  13.338857  6.332637  17.670166  15.030029 -0.517593\n",
       "2018-09-18  2904.310059  12.79  15.04  4.303268  0.536901  -6.505848 -1.570681   0.310058 -13.570069  0.469432\n",
       "2018-09-19  2907.949951  11.75  14.65  6.680847  0.125327  -8.131353 -2.593085   2.780030  -1.349853  0.046441"
      ]
     },
     "execution_count": 5,
     "metadata": {},
     "output_type": "execute_result"
    }
   ],
   "source": [
    "df['SPXVOL'] = raw['^GSPC']['Volume'].pct_change() * 100\n",
    "df['SPX1D']  = raw['^GSPC']['Close'].pct_change() * 100\n",
    "df['VIX1D']  = raw['^VIX']['Close'].pct_change() * 100\n",
    "df['VXV1D']  = raw['^VXV']['Close'].pct_change() * 100\n",
    "\n",
    "df['SPXHL']  = raw['^GSPC']['Open'] - raw['^GSPC']['Low']\n",
    "df['SPXOC']  = raw['^GSPC']['Open'] - raw['^GSPC']['Close']\n",
    "df['SPXO2C'] = ((raw['^GSPC']['Close'] / raw['^GSPC']['Open']) - 1) * 100\n",
    "\n",
    "df.dropna(inplace=True)\n",
    "df.tail()"
   ]
  },
  {
   "cell_type": "markdown",
   "metadata": {
    "slideshow": {
     "slide_type": "subslide"
    }
   },
   "source": [
    "## Prepare target (output)"
   ]
  },
  {
   "cell_type": "code",
   "execution_count": 6,
   "metadata": {},
   "outputs": [
    {
     "data": {
      "text/html": [
       "<div>\n",
       "<style scoped>\n",
       "    .dataframe tbody tr th:only-of-type {\n",
       "        vertical-align: middle;\n",
       "    }\n",
       "\n",
       "    .dataframe tbody tr th {\n",
       "        vertical-align: top;\n",
       "    }\n",
       "\n",
       "    .dataframe thead th {\n",
       "        text-align: right;\n",
       "    }\n",
       "</style>\n",
       "<table border=\"1\" class=\"dataframe\">\n",
       "  <thead>\n",
       "    <tr style=\"text-align: right;\">\n",
       "      <th></th>\n",
       "      <th>SPX</th>\n",
       "      <th>VIX</th>\n",
       "      <th>VXV</th>\n",
       "      <th>SPXVOL</th>\n",
       "      <th>SPX1D</th>\n",
       "      <th>VIX1D</th>\n",
       "      <th>VXV1D</th>\n",
       "      <th>SPXHL</th>\n",
       "      <th>SPXOC</th>\n",
       "      <th>SPXO2C</th>\n",
       "      <th>target</th>\n",
       "    </tr>\n",
       "    <tr>\n",
       "      <th>Date</th>\n",
       "      <th></th>\n",
       "      <th></th>\n",
       "      <th></th>\n",
       "      <th></th>\n",
       "      <th></th>\n",
       "      <th></th>\n",
       "      <th></th>\n",
       "      <th></th>\n",
       "      <th></th>\n",
       "      <th></th>\n",
       "      <th></th>\n",
       "    </tr>\n",
       "  </thead>\n",
       "  <tbody>\n",
       "    <tr>\n",
       "      <th>2018-09-05</th>\n",
       "      <td>2888.600098</td>\n",
       "      <td>13.91</td>\n",
       "      <td>15.92</td>\n",
       "      <td>5.335938</td>\n",
       "      <td>-0.280313</td>\n",
       "      <td>5.699088</td>\n",
       "      <td>3.042071</td>\n",
       "      <td>14.670166</td>\n",
       "      <td>2.989990</td>\n",
       "      <td>-0.103403</td>\n",
       "      <td>-1.0</td>\n",
       "    </tr>\n",
       "    <tr>\n",
       "      <th>2018-09-06</th>\n",
       "      <td>2878.050049</td>\n",
       "      <td>14.65</td>\n",
       "      <td>16.34</td>\n",
       "      <td>-3.136444</td>\n",
       "      <td>-0.365231</td>\n",
       "      <td>5.319914</td>\n",
       "      <td>2.638191</td>\n",
       "      <td>21.349854</td>\n",
       "      <td>10.589844</td>\n",
       "      <td>-0.366603</td>\n",
       "      <td>1.0</td>\n",
       "    </tr>\n",
       "    <tr>\n",
       "      <th>2018-09-07</th>\n",
       "      <td>2871.679932</td>\n",
       "      <td>14.88</td>\n",
       "      <td>16.59</td>\n",
       "      <td>-6.157492</td>\n",
       "      <td>-0.221334</td>\n",
       "      <td>1.569966</td>\n",
       "      <td>1.529988</td>\n",
       "      <td>4.139893</td>\n",
       "      <td>-3.419922</td>\n",
       "      <td>0.119233</td>\n",
       "      <td>-1.0</td>\n",
       "    </tr>\n",
       "    <tr>\n",
       "      <th>2018-09-10</th>\n",
       "      <td>2877.129883</td>\n",
       "      <td>14.16</td>\n",
       "      <td>16.17</td>\n",
       "      <td>-7.292950</td>\n",
       "      <td>0.189783</td>\n",
       "      <td>-4.838710</td>\n",
       "      <td>-2.531646</td>\n",
       "      <td>5.449952</td>\n",
       "      <td>4.260010</td>\n",
       "      <td>-0.147846</td>\n",
       "      <td>1.0</td>\n",
       "    </tr>\n",
       "    <tr>\n",
       "      <th>2018-09-11</th>\n",
       "      <td>2887.889893</td>\n",
       "      <td>13.22</td>\n",
       "      <td>15.54</td>\n",
       "      <td>6.160211</td>\n",
       "      <td>0.373984</td>\n",
       "      <td>-6.638418</td>\n",
       "      <td>-3.896104</td>\n",
       "      <td>4.790039</td>\n",
       "      <td>-16.319825</td>\n",
       "      <td>0.568324</td>\n",
       "      <td>1.0</td>\n",
       "    </tr>\n",
       "    <tr>\n",
       "      <th>2018-09-12</th>\n",
       "      <td>2888.919922</td>\n",
       "      <td>13.14</td>\n",
       "      <td>15.32</td>\n",
       "      <td>12.596994</td>\n",
       "      <td>0.035667</td>\n",
       "      <td>-0.605144</td>\n",
       "      <td>-1.415701</td>\n",
       "      <td>9.090088</td>\n",
       "      <td>-0.629883</td>\n",
       "      <td>0.021808</td>\n",
       "      <td>1.0</td>\n",
       "    </tr>\n",
       "    <tr>\n",
       "      <th>2018-09-13</th>\n",
       "      <td>2904.179932</td>\n",
       "      <td>12.37</td>\n",
       "      <td>14.77</td>\n",
       "      <td>-0.306285</td>\n",
       "      <td>0.528225</td>\n",
       "      <td>-5.859970</td>\n",
       "      <td>-3.590078</td>\n",
       "      <td>0.460205</td>\n",
       "      <td>-7.329834</td>\n",
       "      <td>0.253028</td>\n",
       "      <td>-1.0</td>\n",
       "    </tr>\n",
       "    <tr>\n",
       "      <th>2018-09-14</th>\n",
       "      <td>2904.979980</td>\n",
       "      <td>12.07</td>\n",
       "      <td>14.37</td>\n",
       "      <td>-3.229870</td>\n",
       "      <td>0.027548</td>\n",
       "      <td>-2.425222</td>\n",
       "      <td>-2.708192</td>\n",
       "      <td>10.609863</td>\n",
       "      <td>1.399903</td>\n",
       "      <td>-0.048167</td>\n",
       "      <td>-1.0</td>\n",
       "    </tr>\n",
       "    <tr>\n",
       "      <th>2018-09-17</th>\n",
       "      <td>2888.800049</td>\n",
       "      <td>13.68</td>\n",
       "      <td>15.28</td>\n",
       "      <td>-6.414376</td>\n",
       "      <td>-0.556972</td>\n",
       "      <td>13.338857</td>\n",
       "      <td>6.332637</td>\n",
       "      <td>17.670166</td>\n",
       "      <td>15.030029</td>\n",
       "      <td>-0.517593</td>\n",
       "      <td>1.0</td>\n",
       "    </tr>\n",
       "    <tr>\n",
       "      <th>2018-09-18</th>\n",
       "      <td>2904.310059</td>\n",
       "      <td>12.79</td>\n",
       "      <td>15.04</td>\n",
       "      <td>4.303268</td>\n",
       "      <td>0.536901</td>\n",
       "      <td>-6.505848</td>\n",
       "      <td>-1.570681</td>\n",
       "      <td>0.310058</td>\n",
       "      <td>-13.570069</td>\n",
       "      <td>0.469432</td>\n",
       "      <td>1.0</td>\n",
       "    </tr>\n",
       "  </tbody>\n",
       "</table>\n",
       "</div>"
      ],
      "text/plain": [
       "                    SPX    VIX    VXV     SPXVOL     SPX1D      VIX1D     VXV1D      SPXHL      SPXOC    SPXO2C  target\n",
       "Date                                                                                                                   \n",
       "2018-09-05  2888.600098  13.91  15.92   5.335938 -0.280313   5.699088  3.042071  14.670166   2.989990 -0.103403    -1.0\n",
       "2018-09-06  2878.050049  14.65  16.34  -3.136444 -0.365231   5.319914  2.638191  21.349854  10.589844 -0.366603     1.0\n",
       "2018-09-07  2871.679932  14.88  16.59  -6.157492 -0.221334   1.569966  1.529988   4.139893  -3.419922  0.119233    -1.0\n",
       "2018-09-10  2877.129883  14.16  16.17  -7.292950  0.189783  -4.838710 -2.531646   5.449952   4.260010 -0.147846     1.0\n",
       "2018-09-11  2887.889893  13.22  15.54   6.160211  0.373984  -6.638418 -3.896104   4.790039 -16.319825  0.568324     1.0\n",
       "2018-09-12  2888.919922  13.14  15.32  12.596994  0.035667  -0.605144 -1.415701   9.090088  -0.629883  0.021808     1.0\n",
       "2018-09-13  2904.179932  12.37  14.77  -0.306285  0.528225  -5.859970 -3.590078   0.460205  -7.329834  0.253028    -1.0\n",
       "2018-09-14  2904.979980  12.07  14.37  -3.229870  0.027548  -2.425222 -2.708192  10.609863   1.399903 -0.048167    -1.0\n",
       "2018-09-17  2888.800049  13.68  15.28  -6.414376 -0.556972  13.338857  6.332637  17.670166  15.030029 -0.517593     1.0\n",
       "2018-09-18  2904.310059  12.79  15.04   4.303268  0.536901  -6.505848 -1.570681   0.310058 -13.570069  0.469432     1.0"
      ]
     },
     "execution_count": 6,
     "metadata": {},
     "output_type": "execute_result"
    }
   ],
   "source": [
    "df['target'] = np.where(df[\"SPXO2C\"] >= 0, 1, np.where(df[\"SPXO2C\"] < 0, -1, 0))\n",
    "df['target'] = df['target'].shift(-1) # next day\n",
    "\n",
    "df.dropna(inplace=True)\n",
    "df.tail(10)"
   ]
  },
  {
   "cell_type": "markdown",
   "metadata": {
    "slideshow": {
     "slide_type": "subslide"
    }
   },
   "source": [
    "## Split Data into training and testing"
   ]
  },
  {
   "cell_type": "code",
   "execution_count": 7,
   "metadata": {},
   "outputs": [],
   "source": [
    "feature_cols = [col for col in df.columns if col not in ['target']]\n",
    "\n",
    "features = df[feature_cols].values\n",
    "labels   = df['target'].values.flatten()\n",
    "\n",
    "# split df\n",
    "train_test_split = .9\n",
    "sample = int( len(df.index) * train_test_split )\n",
    "\n",
    "train_features = features[:-sample]\n",
    "train_labels   = labels[:-sample]\n",
    "\n",
    "test_features = features[-sample:]\n",
    "test_labels   = labels[-sample:]"
   ]
  },
  {
   "cell_type": "markdown",
   "metadata": {
    "slideshow": {
     "slide_type": "subslide"
    }
   },
   "source": [
    "## Normalize data"
   ]
  },
  {
   "cell_type": "code",
   "execution_count": 8,
   "metadata": {},
   "outputs": [],
   "source": [
    "# normalize\n",
    "normalizer = preprocessing.Normalizer()\n",
    "train_features = normalizer.fit(train_features).transform(train_features)"
   ]
  },
  {
   "cell_type": "markdown",
   "metadata": {
    "slideshow": {
     "slide_type": "subslide"
    }
   },
   "source": [
    "## Do ML Stuff"
   ]
  },
  {
   "cell_type": "code",
   "execution_count": 9,
   "metadata": {},
   "outputs": [
    {
     "data": {
      "text/plain": [
       "DecisionTreeClassifier(class_weight=None, criterion='gini', max_depth=None,\n",
       "            max_features=None, max_leaf_nodes=None,\n",
       "            min_impurity_decrease=0.0, min_impurity_split=None,\n",
       "            min_samples_leaf=1, min_samples_split=2,\n",
       "            min_weight_fraction_leaf=0.0, presort=False, random_state=None,\n",
       "            splitter='best')"
      ]
     },
     "execution_count": 9,
     "metadata": {},
     "output_type": "execute_result"
    }
   ],
   "source": [
    "# init classifier\n",
    "clf = DecisionTreeClassifier()\n",
    "\n",
    "# fit \n",
    "clf.fit(train_features, train_labels)"
   ]
  },
  {
   "cell_type": "code",
   "execution_count": 10,
   "metadata": {},
   "outputs": [
    {
     "data": {
      "text/plain": [
       "0.5395213923132705"
      ]
     },
     "execution_count": 10,
     "metadata": {},
     "output_type": "execute_result"
    }
   ],
   "source": [
    "# predict\n",
    "prediction = clf.predict(test_features)\n",
    "\n",
    "# score\n",
    "accuracy_score(test_labels, prediction)"
   ]
  },
  {
   "cell_type": "code",
   "execution_count": 11,
   "metadata": {},
   "outputs": [
    {
     "name": "stdout",
     "output_type": "stream",
     "text": [
      "Mean 50.96%, Std: 2.77\n"
     ]
    }
   ],
   "source": [
    "scores = cross_val_score(clf, features, labels, cv=10)\n",
    "print(\"Mean %.2f%%, Std: %.2f\" % (scores.mean()*100, scores.std()*100) )"
   ]
  },
  {
   "cell_type": "markdown",
   "metadata": {
    "slideshow": {
     "slide_type": "subslide"
    }
   },
   "source": [
    "## Test Strategy"
   ]
  },
  {
   "cell_type": "code",
   "execution_count": 12,
   "metadata": {},
   "outputs": [
    {
     "data": {
      "text/html": [
       "<div>\n",
       "<style scoped>\n",
       "    .dataframe tbody tr th:only-of-type {\n",
       "        vertical-align: middle;\n",
       "    }\n",
       "\n",
       "    .dataframe tbody tr th {\n",
       "        vertical-align: top;\n",
       "    }\n",
       "\n",
       "    .dataframe thead th {\n",
       "        text-align: right;\n",
       "    }\n",
       "</style>\n",
       "<table border=\"1\" class=\"dataframe\">\n",
       "  <thead>\n",
       "    <tr style=\"text-align: right;\">\n",
       "      <th></th>\n",
       "      <th>SPX</th>\n",
       "      <th>VIX</th>\n",
       "      <th>VXV</th>\n",
       "      <th>SPXVOL</th>\n",
       "      <th>SPX1D</th>\n",
       "      <th>VIX1D</th>\n",
       "      <th>VXV1D</th>\n",
       "      <th>SPXHL</th>\n",
       "      <th>SPXOC</th>\n",
       "      <th>SPXO2C</th>\n",
       "      <th>target</th>\n",
       "      <th>predicted</th>\n",
       "    </tr>\n",
       "    <tr>\n",
       "      <th>Date</th>\n",
       "      <th></th>\n",
       "      <th></th>\n",
       "      <th></th>\n",
       "      <th></th>\n",
       "      <th></th>\n",
       "      <th></th>\n",
       "      <th></th>\n",
       "      <th></th>\n",
       "      <th></th>\n",
       "      <th></th>\n",
       "      <th></th>\n",
       "      <th></th>\n",
       "    </tr>\n",
       "  </thead>\n",
       "  <tbody>\n",
       "    <tr>\n",
       "      <th>2018-09-12</th>\n",
       "      <td>2888.919922</td>\n",
       "      <td>13.14</td>\n",
       "      <td>15.32</td>\n",
       "      <td>12.596994</td>\n",
       "      <td>0.035667</td>\n",
       "      <td>-0.605144</td>\n",
       "      <td>-1.415701</td>\n",
       "      <td>9.090088</td>\n",
       "      <td>-0.629883</td>\n",
       "      <td>0.021808</td>\n",
       "      <td>1.0</td>\n",
       "      <td>1.0</td>\n",
       "    </tr>\n",
       "    <tr>\n",
       "      <th>2018-09-13</th>\n",
       "      <td>2904.179932</td>\n",
       "      <td>12.37</td>\n",
       "      <td>14.77</td>\n",
       "      <td>-0.306285</td>\n",
       "      <td>0.528225</td>\n",
       "      <td>-5.859970</td>\n",
       "      <td>-3.590078</td>\n",
       "      <td>0.460205</td>\n",
       "      <td>-7.329834</td>\n",
       "      <td>0.253028</td>\n",
       "      <td>-1.0</td>\n",
       "      <td>1.0</td>\n",
       "    </tr>\n",
       "    <tr>\n",
       "      <th>2018-09-14</th>\n",
       "      <td>2904.979980</td>\n",
       "      <td>12.07</td>\n",
       "      <td>14.37</td>\n",
       "      <td>-3.229870</td>\n",
       "      <td>0.027548</td>\n",
       "      <td>-2.425222</td>\n",
       "      <td>-2.708192</td>\n",
       "      <td>10.609863</td>\n",
       "      <td>1.399903</td>\n",
       "      <td>-0.048167</td>\n",
       "      <td>-1.0</td>\n",
       "      <td>-1.0</td>\n",
       "    </tr>\n",
       "    <tr>\n",
       "      <th>2018-09-17</th>\n",
       "      <td>2888.800049</td>\n",
       "      <td>13.68</td>\n",
       "      <td>15.28</td>\n",
       "      <td>-6.414376</td>\n",
       "      <td>-0.556972</td>\n",
       "      <td>13.338857</td>\n",
       "      <td>6.332637</td>\n",
       "      <td>17.670166</td>\n",
       "      <td>15.030029</td>\n",
       "      <td>-0.517593</td>\n",
       "      <td>1.0</td>\n",
       "      <td>1.0</td>\n",
       "    </tr>\n",
       "    <tr>\n",
       "      <th>2018-09-18</th>\n",
       "      <td>2904.310059</td>\n",
       "      <td>12.79</td>\n",
       "      <td>15.04</td>\n",
       "      <td>4.303268</td>\n",
       "      <td>0.536901</td>\n",
       "      <td>-6.505848</td>\n",
       "      <td>-1.570681</td>\n",
       "      <td>0.310058</td>\n",
       "      <td>-13.570069</td>\n",
       "      <td>0.469432</td>\n",
       "      <td>1.0</td>\n",
       "      <td>1.0</td>\n",
       "    </tr>\n",
       "  </tbody>\n",
       "</table>\n",
       "</div>"
      ],
      "text/plain": [
       "                    SPX    VIX    VXV     SPXVOL     SPX1D      VIX1D     VXV1D      SPXHL      SPXOC    SPXO2C  target  predicted\n",
       "Date                                                                                                                              \n",
       "2018-09-12  2888.919922  13.14  15.32  12.596994  0.035667  -0.605144 -1.415701   9.090088  -0.629883  0.021808     1.0        1.0\n",
       "2018-09-13  2904.179932  12.37  14.77  -0.306285  0.528225  -5.859970 -3.590078   0.460205  -7.329834  0.253028    -1.0        1.0\n",
       "2018-09-14  2904.979980  12.07  14.37  -3.229870  0.027548  -2.425222 -2.708192  10.609863   1.399903 -0.048167    -1.0       -1.0\n",
       "2018-09-17  2888.800049  13.68  15.28  -6.414376 -0.556972  13.338857  6.332637  17.670166  15.030029 -0.517593     1.0        1.0\n",
       "2018-09-18  2904.310059  12.79  15.04   4.303268  0.536901  -6.505848 -1.570681   0.310058 -13.570069  0.469432     1.0        1.0"
      ]
     },
     "execution_count": 12,
     "metadata": {},
     "output_type": "execute_result"
    }
   ],
   "source": [
    "testdf = df[-sample:].copy()\n",
    "testdf['predicted'] = prediction\n",
    "\n",
    "testdf.tail()"
   ]
  },
  {
   "cell_type": "code",
   "execution_count": 13,
   "metadata": {},
   "outputs": [
    {
     "data": {
      "text/plain": [
       "<matplotlib.axes._subplots.AxesSubplot at 0x1a1f1b3898>"
      ]
     },
     "execution_count": 13,
     "metadata": {},
     "output_type": "execute_result"
    },
    {
     "data": {
      "image/png": "[encoded data removed]",
      "text/plain": [
       "<Figure size 720x504 with 1 Axes>"
      ]
     },
     "metadata": {
      "image/png": {
       "height": 411,
       "width": 607
      }
     },
     "output_type": "display_data"
    }
   ],
   "source": [
    "testdf['strategy'] = testdf['predicted'].shift(1) * testdf['SPXO2C']\n",
    "\n",
    "testdf[['SPX1D', 'strategy']].cumsum().plot()"
   ]
  },
  {
   "cell_type": "markdown",
   "metadata": {
    "slideshow": {
     "slide_type": "skip"
    }
   },
   "source": [
    "---"
   ]
  },
  {
   "cell_type": "markdown",
   "metadata": {
    "slideshow": {
     "slide_type": "slide"
    }
   },
   "source": [
    "# and... We're Done :)"
   ]
  },
  {
   "cell_type": "markdown",
   "metadata": {
    "slideshow": {
     "slide_type": "fragment"
    }
   },
   "source": [
    "This was the part 4 out of the 4-part webinar series\n",
    "\n",
    "- <strike>Prototyping Trading Strategies</strike>\n",
    "- <strike>Backtesting & Optimization</strike>\n",
    "- <strike>Live Trading</strike>\n",
    "- <strike>Using Machine Learning in Trading</strike>\n",
    "\n",
    "**Webinars available @ [aroussi.com/webinars](https://aroussi.com/webinars)**\n",
    "\n",
    "---"
   ]
  },
  {
   "cell_type": "markdown",
   "metadata": {
    "slideshow": {
     "slide_type": "slide"
    }
   },
   "source": [
    "# Further Reading\n",
    "\n",
    "- [r2d3.us](http://www.r2d3.us)\n",
    "- [It’s Been a Rough 2018 for Many Quant Hedge Funds (Bloomberg)](https://www.bloomberg.com/news/articles/2018-06-26/quants-beset-by-woes-as-jpmorgan-pulls-money-from-hedge-fund)\n",
    "- [Why is machine learning in finance so hard (video)](https://www.youtube.com/watch?v=Szzp6pe4cns)\n",
    "- [Coursera](https://www.coursera.org/learn/machine-learning) / [Udacity](https://www.udacity.com/school-of-ai)\n",
    "- The Intraweb :)\n",
    "\n",
    "---"
   ]
  },
  {
   "cell_type": "markdown",
   "metadata": {
    "slideshow": {
     "slide_type": "slide"
    }
   },
   "source": [
    "# Machine Learning for Trading (with Python)\n",
    "\n",
    "Notebook for the \"**Machine Learning for Trading with Python**\" webinar done for futures.io.\n",
    "\n",
    "&copy; Ran Aroussi | [@aroussi](http://twitter.com/aroussi) | [aroussi.com](http://aroussi.com) | [github.com/ranaroussi](https://github.com/ranaroussi)"
   ]
  }
 ],
 "metadata": {
  "kernelspec": {
   "display_name": "Python 3",
   "language": "python",
   "name": "python3"
  },
  "language_info": {
   "codemirror_mode": {
    "name": "ipython",
    "version": 3
   },
   "file_extension": ".py",
   "mimetype": "text/x-python",
   "name": "python",
   "nbconvert_exporter": "python",
   "pygments_lexer": "ipython3",
   "version": "3.6.6"
  }
 },
 "nbformat": 4,
 "nbformat_minor": 2
}
